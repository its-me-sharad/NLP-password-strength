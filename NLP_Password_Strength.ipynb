{
  "nbformat": 4,
  "nbformat_minor": 0,
  "metadata": {
    "colab": {
      "name": "NLP Password Strength.ipynb",
      "provenance": [],
      "authorship_tag": "ABX9TyOK3zV7lm5l8Ge5gJDJOf4r",
      "include_colab_link": true
    },
    "kernelspec": {
      "name": "python3",
      "display_name": "Python 3"
    },
    "language_info": {
      "name": "python"
    }
  },
  "cells": [
    {
      "cell_type": "markdown",
      "metadata": {
        "id": "view-in-github",
        "colab_type": "text"
      },
      "source": [
        "<a href=\"https://colab.research.google.com/github/its-me-sharad/NLP-password-strength/blob/main/NLP_Password_Strength.ipynb\" target=\"_parent\"><img src=\"https://colab.research.google.com/assets/colab-badge.svg\" alt=\"Open In Colab\"/></a>"
      ]
    },
    {
      "cell_type": "code",
      "metadata": {
        "id": "tTbdn8rNu_lo"
      },
      "source": [
        "import pandas as pd\n",
        "import numpy as np\n",
        "import matplotlib.pyplot as plt\n",
        "import seaborn as sns\n",
        "import warnings\n",
        "warnings.filterwarnings('ignore') "
      ],
      "execution_count": 1,
      "outputs": []
    },
    {
      "cell_type": "code",
      "metadata": {
        "colab": {
          "base_uri": "https://localhost:8080/",
          "height": 275
        },
        "id": "QZtCYAr1vPUE",
        "outputId": "4351b10f-4913-4d73-a3cf-92418f82c2da"
      },
      "source": [
        "data = pd.read_csv('/data.csv',error_bad_lines = False)\n",
        "data.head()"
      ],
      "execution_count": 5,
      "outputs": [
        {
          "output_type": "stream",
          "text": [
            "b'Skipping line 2810: expected 2 fields, saw 5\\nSkipping line 4641: expected 2 fields, saw 5\\nSkipping line 7171: expected 2 fields, saw 5\\nSkipping line 11220: expected 2 fields, saw 5\\nSkipping line 13809: expected 2 fields, saw 5\\nSkipping line 14132: expected 2 fields, saw 5\\nSkipping line 14293: expected 2 fields, saw 5\\nSkipping line 14865: expected 2 fields, saw 5\\nSkipping line 17419: expected 2 fields, saw 5\\nSkipping line 22801: expected 2 fields, saw 5\\nSkipping line 25001: expected 2 fields, saw 5\\nSkipping line 26603: expected 2 fields, saw 5\\nSkipping line 26742: expected 2 fields, saw 5\\nSkipping line 29702: expected 2 fields, saw 5\\nSkipping line 32767: expected 2 fields, saw 5\\nSkipping line 32878: expected 2 fields, saw 5\\nSkipping line 35643: expected 2 fields, saw 5\\nSkipping line 36550: expected 2 fields, saw 5\\nSkipping line 38732: expected 2 fields, saw 5\\nSkipping line 40567: expected 2 fields, saw 5\\nSkipping line 40576: expected 2 fields, saw 5\\nSkipping line 41864: expected 2 fields, saw 5\\nSkipping line 46861: expected 2 fields, saw 5\\nSkipping line 47939: expected 2 fields, saw 5\\nSkipping line 48628: expected 2 fields, saw 5\\nSkipping line 48908: expected 2 fields, saw 5\\nSkipping line 57582: expected 2 fields, saw 5\\nSkipping line 58782: expected 2 fields, saw 5\\nSkipping line 58984: expected 2 fields, saw 5\\nSkipping line 61518: expected 2 fields, saw 5\\nSkipping line 63451: expected 2 fields, saw 5\\nSkipping line 68141: expected 2 fields, saw 5\\nSkipping line 72083: expected 2 fields, saw 5\\nSkipping line 74027: expected 2 fields, saw 5\\nSkipping line 77811: expected 2 fields, saw 5\\nSkipping line 83958: expected 2 fields, saw 5\\nSkipping line 85295: expected 2 fields, saw 5\\nSkipping line 88665: expected 2 fields, saw 5\\nSkipping line 89198: expected 2 fields, saw 5\\nSkipping line 92499: expected 2 fields, saw 5\\nSkipping line 92751: expected 2 fields, saw 5\\nSkipping line 93689: expected 2 fields, saw 5\\nSkipping line 94776: expected 2 fields, saw 5\\nSkipping line 97334: expected 2 fields, saw 5\\nSkipping line 102316: expected 2 fields, saw 5\\nSkipping line 103421: expected 2 fields, saw 5\\nSkipping line 106872: expected 2 fields, saw 5\\nSkipping line 109363: expected 2 fields, saw 5\\nSkipping line 110117: expected 2 fields, saw 5\\nSkipping line 110465: expected 2 fields, saw 5\\nSkipping line 113843: expected 2 fields, saw 5\\nSkipping line 115634: expected 2 fields, saw 5\\nSkipping line 121518: expected 2 fields, saw 5\\nSkipping line 123692: expected 2 fields, saw 5\\nSkipping line 124708: expected 2 fields, saw 5\\nSkipping line 129608: expected 2 fields, saw 5\\nSkipping line 133176: expected 2 fields, saw 5\\nSkipping line 135532: expected 2 fields, saw 5\\nSkipping line 138042: expected 2 fields, saw 5\\nSkipping line 139485: expected 2 fields, saw 5\\nSkipping line 140401: expected 2 fields, saw 5\\nSkipping line 144093: expected 2 fields, saw 5\\nSkipping line 149850: expected 2 fields, saw 5\\nSkipping line 151831: expected 2 fields, saw 5\\nSkipping line 158014: expected 2 fields, saw 5\\nSkipping line 162047: expected 2 fields, saw 5\\nSkipping line 164515: expected 2 fields, saw 5\\nSkipping line 170313: expected 2 fields, saw 5\\nSkipping line 171325: expected 2 fields, saw 5\\nSkipping line 171424: expected 2 fields, saw 5\\nSkipping line 175920: expected 2 fields, saw 5\\nSkipping line 176210: expected 2 fields, saw 5\\nSkipping line 183603: expected 2 fields, saw 5\\nSkipping line 190264: expected 2 fields, saw 5\\nSkipping line 191683: expected 2 fields, saw 5\\nSkipping line 191988: expected 2 fields, saw 5\\nSkipping line 195450: expected 2 fields, saw 5\\nSkipping line 195754: expected 2 fields, saw 5\\nSkipping line 197124: expected 2 fields, saw 5\\nSkipping line 199263: expected 2 fields, saw 5\\nSkipping line 202603: expected 2 fields, saw 5\\nSkipping line 209960: expected 2 fields, saw 5\\nSkipping line 213218: expected 2 fields, saw 5\\nSkipping line 217060: expected 2 fields, saw 5\\nSkipping line 220121: expected 2 fields, saw 5\\nSkipping line 223518: expected 2 fields, saw 5\\nSkipping line 226293: expected 2 fields, saw 5\\nSkipping line 227035: expected 2 fields, saw 7\\nSkipping line 227341: expected 2 fields, saw 5\\nSkipping line 227808: expected 2 fields, saw 5\\nSkipping line 228516: expected 2 fields, saw 5\\nSkipping line 228733: expected 2 fields, saw 5\\nSkipping line 232043: expected 2 fields, saw 5\\nSkipping line 232426: expected 2 fields, saw 5\\nSkipping line 234490: expected 2 fields, saw 5\\nSkipping line 239626: expected 2 fields, saw 5\\nSkipping line 240461: expected 2 fields, saw 5\\nSkipping line 244518: expected 2 fields, saw 5\\nSkipping line 245395: expected 2 fields, saw 5\\nSkipping line 246168: expected 2 fields, saw 5\\nSkipping line 246655: expected 2 fields, saw 5\\nSkipping line 246752: expected 2 fields, saw 5\\nSkipping line 247189: expected 2 fields, saw 5\\nSkipping line 250276: expected 2 fields, saw 5\\nSkipping line 255327: expected 2 fields, saw 5\\nSkipping line 257094: expected 2 fields, saw 5\\n'\n",
            "b'Skipping line 264626: expected 2 fields, saw 5\\nSkipping line 265028: expected 2 fields, saw 5\\nSkipping line 269150: expected 2 fields, saw 5\\nSkipping line 271360: expected 2 fields, saw 5\\nSkipping line 273975: expected 2 fields, saw 5\\nSkipping line 274742: expected 2 fields, saw 5\\nSkipping line 276227: expected 2 fields, saw 5\\nSkipping line 279807: expected 2 fields, saw 5\\nSkipping line 283425: expected 2 fields, saw 5\\nSkipping line 287468: expected 2 fields, saw 5\\nSkipping line 292995: expected 2 fields, saw 5\\nSkipping line 293496: expected 2 fields, saw 5\\nSkipping line 293735: expected 2 fields, saw 5\\nSkipping line 295060: expected 2 fields, saw 5\\nSkipping line 296643: expected 2 fields, saw 5\\nSkipping line 296848: expected 2 fields, saw 5\\nSkipping line 308926: expected 2 fields, saw 5\\nSkipping line 310360: expected 2 fields, saw 5\\nSkipping line 317004: expected 2 fields, saw 5\\nSkipping line 318207: expected 2 fields, saw 5\\nSkipping line 331783: expected 2 fields, saw 5\\nSkipping line 333864: expected 2 fields, saw 5\\nSkipping line 335958: expected 2 fields, saw 5\\nSkipping line 336290: expected 2 fields, saw 5\\nSkipping line 343526: expected 2 fields, saw 5\\nSkipping line 343857: expected 2 fields, saw 5\\nSkipping line 344059: expected 2 fields, saw 5\\nSkipping line 348691: expected 2 fields, saw 5\\nSkipping line 353446: expected 2 fields, saw 5\\nSkipping line 357073: expected 2 fields, saw 5\\nSkipping line 359753: expected 2 fields, saw 5\\nSkipping line 359974: expected 2 fields, saw 5\\nSkipping line 366534: expected 2 fields, saw 5\\nSkipping line 369514: expected 2 fields, saw 5\\nSkipping line 377759: expected 2 fields, saw 5\\nSkipping line 379327: expected 2 fields, saw 5\\nSkipping line 380769: expected 2 fields, saw 5\\nSkipping line 381073: expected 2 fields, saw 5\\nSkipping line 381489: expected 2 fields, saw 5\\nSkipping line 386304: expected 2 fields, saw 5\\nSkipping line 387635: expected 2 fields, saw 5\\nSkipping line 389613: expected 2 fields, saw 5\\nSkipping line 392604: expected 2 fields, saw 5\\nSkipping line 393184: expected 2 fields, saw 5\\nSkipping line 395530: expected 2 fields, saw 5\\nSkipping line 396939: expected 2 fields, saw 5\\nSkipping line 397385: expected 2 fields, saw 5\\nSkipping line 397509: expected 2 fields, saw 5\\nSkipping line 402902: expected 2 fields, saw 5\\nSkipping line 405187: expected 2 fields, saw 5\\nSkipping line 408412: expected 2 fields, saw 5\\nSkipping line 419423: expected 2 fields, saw 5\\nSkipping line 420962: expected 2 fields, saw 5\\nSkipping line 425965: expected 2 fields, saw 5\\nSkipping line 427496: expected 2 fields, saw 5\\nSkipping line 438881: expected 2 fields, saw 5\\nSkipping line 439776: expected 2 fields, saw 5\\nSkipping line 440345: expected 2 fields, saw 5\\nSkipping line 445507: expected 2 fields, saw 5\\nSkipping line 445548: expected 2 fields, saw 5\\nSkipping line 447184: expected 2 fields, saw 5\\nSkipping line 448603: expected 2 fields, saw 5\\nSkipping line 451732: expected 2 fields, saw 5\\nSkipping line 458249: expected 2 fields, saw 5\\nSkipping line 460274: expected 2 fields, saw 5\\nSkipping line 467630: expected 2 fields, saw 5\\nSkipping line 473961: expected 2 fields, saw 5\\nSkipping line 476281: expected 2 fields, saw 5\\nSkipping line 478010: expected 2 fields, saw 5\\nSkipping line 478322: expected 2 fields, saw 5\\nSkipping line 479999: expected 2 fields, saw 5\\nSkipping line 480898: expected 2 fields, saw 5\\nSkipping line 481688: expected 2 fields, saw 5\\nSkipping line 485193: expected 2 fields, saw 5\\nSkipping line 485519: expected 2 fields, saw 5\\nSkipping line 486000: expected 2 fields, saw 5\\nSkipping line 489063: expected 2 fields, saw 5\\nSkipping line 494525: expected 2 fields, saw 5\\nSkipping line 495009: expected 2 fields, saw 5\\nSkipping line 501954: expected 2 fields, saw 5\\nSkipping line 508035: expected 2 fields, saw 5\\nSkipping line 508828: expected 2 fields, saw 5\\nSkipping line 509833: expected 2 fields, saw 5\\nSkipping line 510410: expected 2 fields, saw 5\\nSkipping line 518229: expected 2 fields, saw 5\\nSkipping line 520302: expected 2 fields, saw 5\\nSkipping line 520340: expected 2 fields, saw 5\\n'\n",
            "b'Skipping line 525174: expected 2 fields, saw 5\\nSkipping line 526251: expected 2 fields, saw 5\\nSkipping line 529611: expected 2 fields, saw 5\\nSkipping line 531398: expected 2 fields, saw 5\\nSkipping line 534146: expected 2 fields, saw 5\\nSkipping line 544954: expected 2 fields, saw 5\\nSkipping line 553002: expected 2 fields, saw 5\\nSkipping line 553883: expected 2 fields, saw 5\\nSkipping line 553887: expected 2 fields, saw 5\\nSkipping line 553915: expected 2 fields, saw 5\\nSkipping line 554172: expected 2 fields, saw 5\\nSkipping line 563534: expected 2 fields, saw 5\\nSkipping line 565191: expected 2 fields, saw 5\\nSkipping line 574108: expected 2 fields, saw 5\\nSkipping line 574412: expected 2 fields, saw 5\\nSkipping line 575985: expected 2 fields, saw 5\\nSkipping line 580091: expected 2 fields, saw 5\\nSkipping line 582682: expected 2 fields, saw 5\\nSkipping line 585885: expected 2 fields, saw 5\\nSkipping line 590171: expected 2 fields, saw 5\\nSkipping line 591924: expected 2 fields, saw 5\\nSkipping line 592515: expected 2 fields, saw 5\\nSkipping line 593888: expected 2 fields, saw 5\\nSkipping line 596245: expected 2 fields, saw 5\\nSkipping line 607344: expected 2 fields, saw 5\\nSkipping line 607633: expected 2 fields, saw 5\\nSkipping line 610939: expected 2 fields, saw 5\\nSkipping line 613638: expected 2 fields, saw 5\\nSkipping line 615643: expected 2 fields, saw 5\\nSkipping line 615901: expected 2 fields, saw 5\\nSkipping line 617389: expected 2 fields, saw 5\\nSkipping line 634641: expected 2 fields, saw 5\\nSkipping line 635755: expected 2 fields, saw 5\\nSkipping line 646243: expected 2 fields, saw 5\\nSkipping line 647165: expected 2 fields, saw 5\\nSkipping line 648610: expected 2 fields, saw 5\\nSkipping line 648772: expected 2 fields, saw 5\\nSkipping line 651833: expected 2 fields, saw 5\\nSkipping line 653663: expected 2 fields, saw 5\\nSkipping line 656233: expected 2 fields, saw 5\\nSkipping line 656694: expected 2 fields, saw 5\\nSkipping line 659783: expected 2 fields, saw 5\\nSkipping line 660478: expected 2 fields, saw 5\\nSkipping line 661133: expected 2 fields, saw 5\\nSkipping line 661736: expected 2 fields, saw 5\\nSkipping line 669827: expected 2 fields, saw 5\\n'\n"
          ],
          "name": "stderr"
        },
        {
          "output_type": "execute_result",
          "data": {
            "text/html": [
              "<div>\n",
              "<style scoped>\n",
              "    .dataframe tbody tr th:only-of-type {\n",
              "        vertical-align: middle;\n",
              "    }\n",
              "\n",
              "    .dataframe tbody tr th {\n",
              "        vertical-align: top;\n",
              "    }\n",
              "\n",
              "    .dataframe thead th {\n",
              "        text-align: right;\n",
              "    }\n",
              "</style>\n",
              "<table border=\"1\" class=\"dataframe\">\n",
              "  <thead>\n",
              "    <tr style=\"text-align: right;\">\n",
              "      <th></th>\n",
              "      <th>password</th>\n",
              "      <th>strength</th>\n",
              "    </tr>\n",
              "  </thead>\n",
              "  <tbody>\n",
              "    <tr>\n",
              "      <th>0</th>\n",
              "      <td>kzde5577</td>\n",
              "      <td>1</td>\n",
              "    </tr>\n",
              "    <tr>\n",
              "      <th>1</th>\n",
              "      <td>kino3434</td>\n",
              "      <td>1</td>\n",
              "    </tr>\n",
              "    <tr>\n",
              "      <th>2</th>\n",
              "      <td>visi7k1yr</td>\n",
              "      <td>1</td>\n",
              "    </tr>\n",
              "    <tr>\n",
              "      <th>3</th>\n",
              "      <td>megzy123</td>\n",
              "      <td>1</td>\n",
              "    </tr>\n",
              "    <tr>\n",
              "      <th>4</th>\n",
              "      <td>lamborghin1</td>\n",
              "      <td>1</td>\n",
              "    </tr>\n",
              "  </tbody>\n",
              "</table>\n",
              "</div>"
            ],
            "text/plain": [
              "      password  strength\n",
              "0     kzde5577         1\n",
              "1     kino3434         1\n",
              "2    visi7k1yr         1\n",
              "3     megzy123         1\n",
              "4  lamborghin1         1"
            ]
          },
          "metadata": {
            "tags": []
          },
          "execution_count": 5
        }
      ]
    },
    {
      "cell_type": "code",
      "metadata": {
        "colab": {
          "base_uri": "https://localhost:8080/"
        },
        "id": "Gv3It00UvqPT",
        "outputId": "a90e950a-1ac6-463e-f1ae-78a124722fe7"
      },
      "source": [
        "data['strength'].unique()"
      ],
      "execution_count": 6,
      "outputs": [
        {
          "output_type": "execute_result",
          "data": {
            "text/plain": [
              "array([1, 2, 0])"
            ]
          },
          "metadata": {
            "tags": []
          },
          "execution_count": 6
        }
      ]
    },
    {
      "cell_type": "code",
      "metadata": {
        "colab": {
          "base_uri": "https://localhost:8080/"
        },
        "id": "ulZxiL3TwFxm",
        "outputId": "56d4f95e-a441-4ce2-893a-750a54b92f29"
      },
      "source": [
        "data.isnull().sum()"
      ],
      "execution_count": 7,
      "outputs": [
        {
          "output_type": "execute_result",
          "data": {
            "text/plain": [
              "password    1\n",
              "strength    0\n",
              "dtype: int64"
            ]
          },
          "metadata": {
            "tags": []
          },
          "execution_count": 7
        }
      ]
    },
    {
      "cell_type": "code",
      "metadata": {
        "colab": {
          "base_uri": "https://localhost:8080/",
          "height": 80
        },
        "id": "1iWn1rtvwIUf",
        "outputId": "b5948ecb-4f9a-4c95-d543-bf37345aaaa2"
      },
      "source": [
        " data[data['password'].isnull()]"
      ],
      "execution_count": 8,
      "outputs": [
        {
          "output_type": "execute_result",
          "data": {
            "text/html": [
              "<div>\n",
              "<style scoped>\n",
              "    .dataframe tbody tr th:only-of-type {\n",
              "        vertical-align: middle;\n",
              "    }\n",
              "\n",
              "    .dataframe tbody tr th {\n",
              "        vertical-align: top;\n",
              "    }\n",
              "\n",
              "    .dataframe thead th {\n",
              "        text-align: right;\n",
              "    }\n",
              "</style>\n",
              "<table border=\"1\" class=\"dataframe\">\n",
              "  <thead>\n",
              "    <tr style=\"text-align: right;\">\n",
              "      <th></th>\n",
              "      <th>password</th>\n",
              "      <th>strength</th>\n",
              "    </tr>\n",
              "  </thead>\n",
              "  <tbody>\n",
              "    <tr>\n",
              "      <th>367579</th>\n",
              "      <td>NaN</td>\n",
              "      <td>0</td>\n",
              "    </tr>\n",
              "  </tbody>\n",
              "</table>\n",
              "</div>"
            ],
            "text/plain": [
              "       password  strength\n",
              "367579      NaN         0"
            ]
          },
          "metadata": {
            "tags": []
          },
          "execution_count": 8
        }
      ]
    },
    {
      "cell_type": "code",
      "metadata": {
        "colab": {
          "base_uri": "https://localhost:8080/"
        },
        "id": "QtugH25uwKkD",
        "outputId": "1dbab409-db04-4bb0-e9ad-27824b397769"
      },
      "source": [
        "data.dropna(inplace=True)\n",
        "data.isnull().sum()"
      ],
      "execution_count": 9,
      "outputs": [
        {
          "output_type": "execute_result",
          "data": {
            "text/plain": [
              "password    0\n",
              "strength    0\n",
              "dtype: int64"
            ]
          },
          "metadata": {
            "tags": []
          },
          "execution_count": 9
        }
      ]
    },
    {
      "cell_type": "code",
      "metadata": {
        "colab": {
          "base_uri": "https://localhost:8080/",
          "height": 296
        },
        "id": "WLygzUETwOPT",
        "outputId": "6fe50e6a-496d-4afd-ec1d-29c6a7a2e080"
      },
      "source": [
        "sns.countplot(data['strength'])"
      ],
      "execution_count": 10,
      "outputs": [
        {
          "output_type": "execute_result",
          "data": {
            "text/plain": [
              "<matplotlib.axes._subplots.AxesSubplot at 0x7fe830f2efd0>"
            ]
          },
          "metadata": {
            "tags": []
          },
          "execution_count": 10
        },
        {
          "output_type": "display_data",
          "data": {
            "image/png": "[encoded data removed]",
            "text/plain": [
              "<Figure size 432x288 with 1 Axes>"
            ]
          },
          "metadata": {
            "tags": [],
            "needs_background": "light"
          }
        }
      ]
    },
    {
      "cell_type": "code",
      "metadata": {
        "id": "-tnjrWcOwQqa"
      },
      "source": [
        "password_tuple = np.array(data)"
      ],
      "execution_count": 11,
      "outputs": []
    },
    {
      "cell_type": "code",
      "metadata": {
        "colab": {
          "base_uri": "https://localhost:8080/"
        },
        "id": "vqQ6sQ3QwTUr",
        "outputId": "51796e31-67ce-4218-c7d0-8bdbe2228a58"
      },
      "source": [
        "password_tuple"
      ],
      "execution_count": 12,
      "outputs": [
        {
          "output_type": "execute_result",
          "data": {
            "text/plain": [
              "array([['kzde5577', 1],\n",
              "       ['kino3434', 1],\n",
              "       ['visi7k1yr', 1],\n",
              "       ...,\n",
              "       ['184520socram', 1],\n",
              "       ['marken22a', 1],\n",
              "       ['fxx4pw4g', 1]], dtype=object)"
            ]
          },
          "metadata": {
            "tags": []
          },
          "execution_count": 12
        }
      ]
    },
    {
      "cell_type": "code",
      "metadata": {
        "id": "1nQVOFLywUqd"
      },
      "source": [
        "import random \n",
        "random.shuffle(password_tuple)"
      ],
      "execution_count": 13,
      "outputs": []
    },
    {
      "cell_type": "code",
      "metadata": {
        "id": "Q9d50Dv_wYpr"
      },
      "source": [
        "x = [labels[0] for labels in password_tuple]\n",
        "y = [labels[1] for labels in password_tuple]"
      ],
      "execution_count": 14,
      "outputs": []
    },
    {
      "cell_type": "code",
      "metadata": {
        "colab": {
          "base_uri": "https://localhost:8080/"
        },
        "id": "x83yrlucwa_z",
        "outputId": "9427e363-3de7-4170-c88c-55c6819811c8"
      },
      "source": [
        "x"
      ],
      "execution_count": 15,
      "outputs": [
        {
          "output_type": "execute_result",
          "data": {
            "text/plain": [
              "['kzde5577',\n",
              " 'kzde5577',\n",
              " 'kino3434',\n",
              " 'megzy123',\n",
              " 'megzy123',\n",
              " 'visi7k1yr',\n",
              " 'lamborghin1',\n",
              " 'megzy123',\n",
              " 'universe2908',\n",
              " 'visi7k1yr',\n",
              " 'u6c8vhow',\n",
              " 'v1118714',\n",
              " '612035180tok',\n",
              " 'v1118714',\n",
              " 'visi7k1yr',\n",
              " '612035180tok',\n",
              " 'WUt9IZzE0OQ7PkNE',\n",
              " '612035180tok',\n",
              " 'visi7k1yr',\n",
              " 'megzy123',\n",
              " 'visi7k1yr',\n",
              " 'visi7k1yr',\n",
              " 'elyass15@ajilent-ci',\n",
              " 'klara-tershina3H',\n",
              " 'visi7k1yr',\n",
              " 'asv5o9yu',\n",
              " 'idofo673',\n",
              " 'jerusalem393',\n",
              " 'schalke04',\n",
              " 'klara-tershina3H',\n",
              " 'gaymaids1',\n",
              " 'gaymaids1',\n",
              " 'g067057895',\n",
              " '0169395484a',\n",
              " 'elyass15@ajilent-ci',\n",
              " 'jytifok873',\n",
              " '52558000aaa',\n",
              " '612035180tok',\n",
              " 'kswa2mrv',\n",
              " 'fk9qi21m',\n",
              " 'v1118714',\n",
              " 'v1118714',\n",
              " 'pHyqueDIyNQ8vmhb',\n",
              " 'elyass15@ajilent-ci',\n",
              " 'exitos2009',\n",
              " 'WUt9IZzE0OQ7PkNE',\n",
              " 'jerusalem393',\n",
              " 'juliel009',\n",
              " 'gaymaids1',\n",
              " '52558000aaa',\n",
              " 'ok>bdk',\n",
              " 'megzy123',\n",
              " 'yqugu927',\n",
              " 'memjan123',\n",
              " 'fk9qi21m',\n",
              " 'go7kew7a2po',\n",
              " 'lsdlsd1',\n",
              " 'exitos2009',\n",
              " 'yk530mg8',\n",
              " 'trabajonet9',\n",
              " '612035180tok',\n",
              " 'a2531106',\n",
              " 'universe2908',\n",
              " 'schalke04',\n",
              " 'patri1973',\n",
              " 'openup12',\n",
              " 'd04m11',\n",
              " 'ok>bdk',\n",
              " 'trabajonet9',\n",
              " 'czuodhj972',\n",
              " 'klara-tershina3H',\n",
              " 'yk530mg8',\n",
              " 'asv5o9yu',\n",
              " 'asgaliu11',\n",
              " 'a2531106',\n",
              " 'hpqkoxsn5',\n",
              " 'schalke04',\n",
              " 'yqugu927',\n",
              " 'elyass15@ajilent-ci',\n",
              " 'rntprns7',\n",
              " 'go7kew7a2po',\n",
              " 'bgrvl80',\n",
              " 'Iamthelegend1!',\n",
              " 'jalingo1',\n",
              " 'snolyuj04',\n",
              " 'fk9qi21m',\n",
              " 'mickael12',\n",
              " 'cigicigi123',\n",
              " 'rntprns7',\n",
              " 'go7kew7a2po',\n",
              " '0169395484a',\n",
              " 'il0vey0u',\n",
              " 'pHyqueDIyNQ8vmhb',\n",
              " 'rntprns7',\n",
              " 'p2share',\n",
              " 'j09000',\n",
              " 'bozoxik602',\n",
              " 'rntprns7',\n",
              " 'g067057895',\n",
              " 'matiofox08',\n",
              " 'woon12',\n",
              " '52558000aaa',\n",
              " '52558000aaa',\n",
              " 'jytifok873',\n",
              " 'woon12',\n",
              " 'a2531106',\n",
              " 'fk9qi21m',\n",
              " 'memjan123',\n",
              " 'cigicigi123',\n",
              " 'p2share',\n",
              " 'ejeko677',\n",
              " 'TyWM72UNEex8Q8Y',\n",
              " 'kino3434',\n",
              " 'yllime123',\n",
              " 'memjan123',\n",
              " 'a2531106',\n",
              " 'fahad123',\n",
              " 'xiau5ff',\n",
              " 'intel1',\n",
              " 'openup12',\n",
              " 'd04m11',\n",
              " 'farrukhcse12',\n",
              " 'fk9qi21m',\n",
              " 'patri1973',\n",
              " 'prisonbreak1',\n",
              " 'memjan123',\n",
              " '746xitEGiqObog',\n",
              " '64959rodro',\n",
              " 'juliel009',\n",
              " 'fahad123',\n",
              " 'universe2908',\n",
              " 'calcifer32',\n",
              " 'matiofox08',\n",
              " 'u6c8vhow',\n",
              " '283671gus',\n",
              " 'v1118714',\n",
              " 'jUV4dSDQwNwPpA36',\n",
              " 'patri1973',\n",
              " 'yitbos77',\n",
              " 'go7kew7a2po',\n",
              " 'lamborghin1',\n",
              " '929865yt',\n",
              " 'fk9qi21m',\n",
              " 'matiofox08',\n",
              " 'mmm23mm',\n",
              " '26522876p',\n",
              " 'idofo673',\n",
              " 'portales1',\n",
              " 'kswa2mrv',\n",
              " 'portales1',\n",
              " 'pato221182',\n",
              " 'olmaz.',\n",
              " 'cigicigi123',\n",
              " '2yz4ewwg',\n",
              " 'barra23',\n",
              " 'matiofox08',\n",
              " 'sbl571017',\n",
              " 'icap12',\n",
              " 'asgaliu11',\n",
              " 'kzde5577',\n",
              " 'cesarmaio1',\n",
              " 'yuri110995',\n",
              " 'mazdarx7',\n",
              " '64959rodro',\n",
              " 'b4NbTxDEyNgG141J',\n",
              " 'mickael12',\n",
              " 'xyws951753',\n",
              " 'alimagik1',\n",
              " '2fakjv',\n",
              " 'khmer100.03278&?><Mnb',\n",
              " 'trabajonet9',\n",
              " 'jUV4dSDQwNwPpA36',\n",
              " 'kswa2mrv',\n",
              " '147963asd',\n",
              " 'b4NbTxDEyNgG141J',\n",
              " 'tia150979',\n",
              " '123maxbala',\n",
              " '123net123',\n",
              " 'snolyuj04',\n",
              " 'tia150979',\n",
              " 'qn5xpg3k00',\n",
              " 'klara-tershina3H',\n",
              " 'v1118714',\n",
              " 'yuri110995',\n",
              " 'ok>bdk',\n",
              " 'alimagik1',\n",
              " 'sanki1',\n",
              " 'b4NbTxDEyNgG141J',\n",
              " 'nicolas05',\n",
              " 'kswa2mrv',\n",
              " '147963asd',\n",
              " 'c3h8bkzr',\n",
              " 'finisterra1',\n",
              " 'juliel009',\n",
              " '2fakjv',\n",
              " 'zoobike04',\n",
              " 'gkrqjs6',\n",
              " '2010server',\n",
              " 'calcifer32',\n",
              " '283671gus',\n",
              " 'RPFUOUDQwMwVW0AS',\n",
              " 'pHyqueDIyNQ8vmhb',\n",
              " '1972vishara',\n",
              " 'juliana19',\n",
              " 'x8512514',\n",
              " 'pHyqueDIyNQ8vmhb',\n",
              " 'ebacuro434',\n",
              " 'il0vey0u',\n",
              " 'jonothepoop1',\n",
              " '26522876p',\n",
              " 'x8512514',\n",
              " 'kjkjkj1',\n",
              " 'k9b8cz6aj2',\n",
              " 'nicolas05',\n",
              " 'zgmfnwuq25',\n",
              " 'xyws951753',\n",
              " '123net123',\n",
              " 'marita1',\n",
              " 'igejasy712',\n",
              " 'elonex24',\n",
              " 'yllime123',\n",
              " 'farrukhcse12',\n",
              " 'idofo673',\n",
              " '2010server',\n",
              " 'gandhi8513',\n",
              " 'X9WVojjE4MgVAIiR',\n",
              " 'snolyuj04',\n",
              " 'g067057895',\n",
              " '20010509wang',\n",
              " 'pikey231',\n",
              " '2yz4ewwg',\n",
              " '64959rodro',\n",
              " 'z888888',\n",
              " '3vszncp4',\n",
              " 'asv5o9yu',\n",
              " '6975038lp',\n",
              " 'taurofive16',\n",
              " 'sbl571017',\n",
              " 'farrukhcse12',\n",
              " '1972vishara',\n",
              " 'zgmfnwuq25',\n",
              " 'njmania114',\n",
              " 'kayal123',\n",
              " 'teste10',\n",
              " 'kyxvufl37',\n",
              " 'ass359',\n",
              " 'mike09',\n",
              " 'il0vey0u',\n",
              " 'megzy123',\n",
              " 'gkrqjs6',\n",
              " 'p2share',\n",
              " 'p2share',\n",
              " 'marita1',\n",
              " 'pikey231',\n",
              " 'kry1z9',\n",
              " 'change201',\n",
              " 'change201',\n",
              " 'khmer100.03278&?><Mnb',\n",
              " '147963asd',\n",
              " 'portales1',\n",
              " 'wxS2ztDk4OATjBfI',\n",
              " 'jonothepoop1',\n",
              " 's9830950044',\n",
              " 'change201',\n",
              " 'virush1n1',\n",
              " 'planes123',\n",
              " 'www32223222',\n",
              " 'prisonbreak1',\n",
              " 'kinga22',\n",
              " 'snolyuj04',\n",
              " 'a2486315',\n",
              " 'jonothepoop1',\n",
              " 'x8512514',\n",
              " '64959rodro',\n",
              " 'frhnsvelhfr1',\n",
              " 'nello11',\n",
              " 'a2486315',\n",
              " 'juliana19',\n",
              " 'okn9zp9o',\n",
              " 'mustang337',\n",
              " 'yuri110995',\n",
              " 'olmaz.',\n",
              " 'ekufite742',\n",
              " '123net123',\n",
              " 'ts34a3fodh3i',\n",
              " 'barboza221294',\n",
              " 'tin030201',\n",
              " 'IjUcOtYqAwel725',\n",
              " 'a0972986650',\n",
              " 'memjan123',\n",
              " 'moken7',\n",
              " 'ldteugao6',\n",
              " 'kzde5577',\n",
              " 'planes123',\n",
              " 'patty94',\n",
              " 'metopelo1623',\n",
              " '64959rodro',\n",
              " 'ginger972',\n",
              " 'omakiva153',\n",
              " 'pato221182',\n",
              " 'TyWM72UNEex8Q8Y',\n",
              " 'xanyrum650',\n",
              " 'teemteem97',\n",
              " 'lzhzad1989',\n",
              " 'vehat387',\n",
              " 'faranumar91',\n",
              " 'a2486315',\n",
              " 'vehat387',\n",
              " 'polo2014',\n",
              " 'aosmaxd0',\n",
              " 'juliel009',\n",
              " 'xp;ysmybst',\n",
              " 'okn9zp9o',\n",
              " 'hodygid757',\n",
              " 'khaled12',\n",
              " 'balamuc123',\n",
              " 'k1k2k3k4k5k6',\n",
              " '123net123',\n",
              " 'qn5xpg3k00',\n",
              " 'gaymaids1',\n",
              " 'potatobus150',\n",
              " 'RqsuUsDYxNgr8T40',\n",
              " 'calcifer32',\n",
              " 'ram@!sita15392',\n",
              " '20010509wang',\n",
              " 'examy624',\n",
              " 'krumbul123',\n",
              " 'yy4129',\n",
              " 'u6c8vhow',\n",
              " '1972vishara',\n",
              " 'kVczcljg4OA25Aeb',\n",
              " 'bugatti01',\n",
              " 'yu4cmn',\n",
              " 'mike09',\n",
              " 'matiofox08',\n",
              " 'samael666',\n",
              " 'p2share',\n",
              " 'robot425',\n",
              " 'v10rica',\n",
              " 'mickael12',\n",
              " 'a03242241431a',\n",
              " 'rogyh820',\n",
              " 'afavin964',\n",
              " 'elonex24',\n",
              " 'meopvywk628',\n",
              " 'WUt9IZzE0OQ7PkNE',\n",
              " 'sofietou74',\n",
              " 'change201',\n",
              " 'wycinu436',\n",
              " 'sasuke4',\n",
              " 'han19660120',\n",
              " 'RPFUOUDQwMwVW0AS',\n",
              " 'puegwajy416',\n",
              " 'change201',\n",
              " 'woon12',\n",
              " 'sarahi1628',\n",
              " 'just1n0k',\n",
              " '2fakjv',\n",
              " 'WUt9IZzE0OQ7PkNE',\n",
              " 'znbl5tj1',\n",
              " 'oekojWyH120063',\n",
              " 'llahetihw1',\n",
              " 'matiz4533',\n",
              " 'barboza221294',\n",
              " 'jalal123456',\n",
              " 'ldteugao6',\n",
              " 'prisonbreak1',\n",
              " 'schalke04',\n",
              " 'uxyloga692',\n",
              " 'mohantra1',\n",
              " 's0xwym7h',\n",
              " 'oscar69',\n",
              " 'idofo673',\n",
              " 'p2share',\n",
              " 'hosna1368',\n",
              " 'ejeko677',\n",
              " 'laedbchsx687',\n",
              " 'pikey231',\n",
              " 'go7kew7a2po',\n",
              " 'rLLh4WDQ2OAWbDO5',\n",
              " 'u03kz6ez',\n",
              " 'gdfn76',\n",
              " 'xanyrum650',\n",
              " 'ebacuro434',\n",
              " '1234159hero',\n",
              " 'qn5xpg3k00',\n",
              " 'obstacle25',\n",
              " 'ejeko677',\n",
              " 'qn5xpg3k00',\n",
              " 'omakiva153',\n",
              " 'n501iomf',\n",
              " 'x0004534',\n",
              " 'ppnyadam09',\n",
              " 'den019520',\n",
              " 'zgmfnwuq25',\n",
              " 'just1n0k',\n",
              " 'polo2014',\n",
              " 'trabajonet9',\n",
              " 'desmondkok21',\n",
              " 'u03kz6ez',\n",
              " 'il0vey0u',\n",
              " 'folashade1',\n",
              " 'obstacle25',\n",
              " 'YADHJIGSAWS11',\n",
              " 'cUFUSYKIPuGo024',\n",
              " 'xtswdypgh936',\n",
              " 'vietnga92',\n",
              " 'bugatti01',\n",
              " 'atigi839',\n",
              " 'prisonbreak1',\n",
              " '3vszncp4',\n",
              " 'aio42fv',\n",
              " 'rakag279',\n",
              " 'as326159',\n",
              " 'fahad123',\n",
              " 'autan88',\n",
              " 'mike09',\n",
              " 'z888888',\n",
              " 'sysoja794',\n",
              " 'tim80327',\n",
              " 'edcmki90',\n",
              " 'a0972986650',\n",
              " '838188linh',\n",
              " 'gaymaids1',\n",
              " 'ldteugao6',\n",
              " 'xiau5ff',\n",
              " 'finisterra1',\n",
              " 'tahseen75',\n",
              " '4165000yakub',\n",
              " 'pazzini24',\n",
              " 'zidadoh258',\n",
              " '26522876p',\n",
              " 'patty94',\n",
              " '7mV0pKTA3MgHy8Jv',\n",
              " 'v10rica',\n",
              " 'tukaxo486',\n",
              " '612035180tok',\n",
              " 'polo2014',\n",
              " 'uou2dae',\n",
              " 'josue12',\n",
              " 'pazzini24',\n",
              " 'han19660120',\n",
              " '838188linh',\n",
              " 'parvizrus13',\n",
              " 'metopelo1623',\n",
              " 'spl51190595',\n",
              " 'vehat387',\n",
              " 'ts34a3fodh3i',\n",
              " 'ninja420',\n",
              " 'TyWM72UNEex8Q8Y',\n",
              " 'v10rica',\n",
              " 'djngeyut2707',\n",
              " 'sknq7m0',\n",
              " 'franczuk33',\n",
              " 'tia150979',\n",
              " 'wo9aiwangyan',\n",
              " 'poseidon2011',\n",
              " 'ekufite742',\n",
              " 'elyass15@ajilent-ci',\n",
              " '0VKWoODkwOAc0pZK',\n",
              " 'cigicigi123',\n",
              " 'jalingo1',\n",
              " 'cigicigi123',\n",
              " 'rogyh820',\n",
              " 'xiau5ff',\n",
              " 'jbtcnd6',\n",
              " 'AS0130066',\n",
              " 'zidadoh258',\n",
              " 't8IkFRDIxMAFV2JW',\n",
              " 'polo2014',\n",
              " 'b98nwtpriyesh',\n",
              " 'mashhood_afzal21087',\n",
              " 'parvizrus13',\n",
              " 'vietnga92',\n",
              " 'potatobus150',\n",
              " 'lamborghin1',\n",
              " '2010server',\n",
              " 'acetita478',\n",
              " 'han19660120',\n",
              " 'iwaguh884',\n",
              " '10Erjrlmebup0n',\n",
              " 'spl51190595',\n",
              " 'k1k2k3k4k5k6',\n",
              " '20010509wang',\n",
              " 'kikeq102',\n",
              " 'ikanez886',\n",
              " 'vehat387',\n",
              " '746xitEGiqObog',\n",
              " 'autan88',\n",
              " '929865yt',\n",
              " 'd6VyrkFV6oblxNs5N8cW',\n",
              " 'xp;ysmybst',\n",
              " 'gutergut599',\n",
              " 'kenneth610',\n",
              " 'just1n0k',\n",
              " 'juliana19',\n",
              " 'gaymaids1',\n",
              " 'asgaliu11',\n",
              " '2010server',\n",
              " 'faranumar91',\n",
              " '10Erjrlmebup0n',\n",
              " 'alchimie79',\n",
              " 'QWERTY0011',\n",
              " 'taulant123',\n",
              " '6tequila6',\n",
              " 'kah4544875',\n",
              " 'snolyuj04',\n",
              " 'vgnfs495vp',\n",
              " 'a110804032',\n",
              " 'teste10',\n",
              " 'gdfn76',\n",
              " 'kenyu001',\n",
              " 'YADHJIGSAWS11',\n",
              " 'matiofox08',\n",
              " 'terrassa6',\n",
              " 'xiau5ff',\n",
              " 'taurofive16',\n",
              " 'taulant123',\n",
              " 'kuntz80',\n",
              " 'juliana19',\n",
              " 'k9b8cz6aj2',\n",
              " 'krumbul123',\n",
              " 'purpledog1992',\n",
              " 'openup12',\n",
              " 'abizar08',\n",
              " 'saule123',\n",
              " '2yz4ewwg',\n",
              " 'uoaef06gfqeb',\n",
              " 'holamundo1',\n",
              " 'fr8OClDY1MAdEhHa',\n",
              " 'yut0838828185',\n",
              " 'a0972986650',\n",
              " 'qopybuxi2',\n",
              " 'a110804032',\n",
              " 'kabrito1',\n",
              " 'sebo82',\n",
              " 'pugceya468',\n",
              " 'mustang337',\n",
              " 'gpc151192',\n",
              " '3f5xd41l0ik7',\n",
              " 'acgyj188',\n",
              " '4lgYVfzk1MwuzHcn',\n",
              " '1234159hero',\n",
              " 'teemteem97',\n",
              " 'killer5',\n",
              " 'sw10d014',\n",
              " 'zidadoh258',\n",
              " 'weicat12',\n",
              " 'ryjypes139',\n",
              " 'oioo9og',\n",
              " 'lugerp08',\n",
              " 'princ3sa',\n",
              " 'warriors08',\n",
              " 'sanki1',\n",
              " 'mdaffandi74',\n",
              " 'elyass15@ajilent-ci',\n",
              " 'zoobike04',\n",
              " 'n501iomf',\n",
              " 'uziwocy148',\n",
              " 'grazi0201',\n",
              " 'bugatti01',\n",
              " 'olmaz.',\n",
              " 'kino3434',\n",
              " 'junaid5',\n",
              " 'ts34a3fodh3i',\n",
              " 'seng987321',\n",
              " 'b4NbTxDEyNgG141J',\n",
              " 'isqizkg1',\n",
              " 'aslanmarco007',\n",
              " 'z7zbgIDkzMQeHUd9',\n",
              " 'IRZA98',\n",
              " 'zcsntdmhe098',\n",
              " 'mussuh4',\n",
              " '9950twofour0',\n",
              " 'sandra0547',\n",
              " 'RqsuUsDYxNgr8T40',\n",
              " 'a2486315',\n",
              " 'mega0109',\n",
              " '5gzj5uf',\n",
              " 'pastorius88',\n",
              " 'patri1973',\n",
              " 'juliel009',\n",
              " 'kdl9cl53',\n",
              " 'zcsntdmhe098',\n",
              " 'hpqkoxsn5',\n",
              " 'e667794c1d',\n",
              " 'g067057895',\n",
              " 'frhnsvelhfr1',\n",
              " 'moimoimoi9',\n",
              " 'PEPITO00',\n",
              " 'nokia6020',\n",
              " 'hasan18',\n",
              " 'rrilni1747',\n",
              " 'RqsuUsDYxNgr8T40',\n",
              " 'k1k2k3k4k5k6',\n",
              " 'peluchin4',\n",
              " 'sebo82',\n",
              " 'acgyj188',\n",
              " 'wbtdrieus345',\n",
              " 'b9m7cxcgc',\n",
              " 'yqugu927',\n",
              " 'Jovan13lovekenthjusvan4ever',\n",
              " 'memjan123',\n",
              " 'fk9qi21m',\n",
              " 'samael666',\n",
              " 'mdaffandi74',\n",
              " 'barra23',\n",
              " 'a2486315',\n",
              " 'graciela2',\n",
              " 'yu4cmn',\n",
              " 'qefoquf1uf',\n",
              " 'holamundo1',\n",
              " 'intel1',\n",
              " 'RPFUOUDQwMwVW0AS',\n",
              " 'farrukhcse12',\n",
              " 'adminmao888',\n",
              " '1ngaymuadong',\n",
              " 'aqyba894',\n",
              " 'kenyu001',\n",
              " 'cUFUSYKIPuGo024',\n",
              " 'roxana1993',\n",
              " 'popo0404',\n",
              " 'examy624',\n",
              " 'sknq7m0',\n",
              " 'artom111478',\n",
              " 'pugceya468',\n",
              " 'mega0109',\n",
              " 'just1n0k',\n",
              " 'klara-tershina3H',\n",
              " 'omakiva153',\n",
              " 'sebo82',\n",
              " 'kitty555',\n",
              " 'novelia21',\n",
              " '19821010a',\n",
              " 'we34dar88',\n",
              " 'ga98SIzk0NwhiZaE',\n",
              " 'jesmond26',\n",
              " '2akira2',\n",
              " '159951josh',\n",
              " 'igejasy712',\n",
              " 'marita1',\n",
              " 'taccy12',\n",
              " 'jekkmoeder>',\n",
              " 'padhila30',\n",
              " 'clave2013',\n",
              " '4lgYVfzk1MwuzHcn',\n",
              " '1justogax',\n",
              " 'sydney213',\n",
              " 'akucinta12',\n",
              " 'igejasy712',\n",
              " 'gvczfel801',\n",
              " 'taulant123',\n",
              " 'sanki1',\n",
              " '52558000aaa',\n",
              " 'saule123',\n",
              " 'jsm159167',\n",
              " 'barra23',\n",
              " 'deivid1991',\n",
              " 'gracimir87',\n",
              " 'farrukhcse12',\n",
              " 'vietnga92',\n",
              " 'kjkjkj1',\n",
              " 'seller1',\n",
              " 'xW8-3w7-MFB-CKH',\n",
              " 'sarahi1628',\n",
              " 'jekkmoeder>',\n",
              " 'deivid1991',\n",
              " 'lugerp08',\n",
              " '5874813o',\n",
              " 'j03l4ytr1',\n",
              " 'hodygid757',\n",
              " '6975038lp',\n",
              " 'roxana1993',\n",
              " '01161590m',\n",
              " 'sarahi1628',\n",
              " 'ixehawojEPe418',\n",
              " '01161590m',\n",
              " 'teste10',\n",
              " 'rntprns7',\n",
              " 'hotdog20',\n",
              " 'xW8-3w7-MFB-CKH',\n",
              " 'jannia5',\n",
              " 'wisal1234',\n",
              " 'jsm159167',\n",
              " 'mmm23mm',\n",
              " 'shotiko18',\n",
              " 'kayal123',\n",
              " 'calcifer32',\n",
              " 'xve33ea',\n",
              " 'oscar69',\n",
              " 'as8594505',\n",
              " 'markama10',\n",
              " 'mayur@8netinfotech',\n",
              " 'qwekl12',\n",
              " 'p2share',\n",
              " '7mV0pKTA3MgHy8Jv',\n",
              " 'kVczcljg4OA25Aeb',\n",
              " 'ppnyadam09',\n",
              " 'olmaz.',\n",
              " 'edcmki90',\n",
              " 'oatcake87',\n",
              " 'shotiko18',\n",
              " 'oatcake87',\n",
              " 'xawipy995',\n",
              " 'seng987321',\n",
              " 'zoobike04',\n",
              " 'rntprns7',\n",
              " 'qwekl12',\n",
              " 'xzeyfbi495',\n",
              " 'm4r4hne',\n",
              " 'e667794c1d',\n",
              " 'sha122511',\n",
              " 'ram@!sita15392',\n",
              " '2d0d7qfz',\n",
              " 'alhama11408',\n",
              " 'yami12',\n",
              " 'ixehawojEPe418',\n",
              " 'ass359',\n",
              " '4165000yakub',\n",
              " 'alimagik1',\n",
              " 'hlQ8gDTExMQWkeda',\n",
              " 'elonex24',\n",
              " '5gzj5uf',\n",
              " 'ok>bdk',\n",
              " 'killer5',\n",
              " 'servbot88',\n",
              " 'wjngzro27',\n",
              " 'Truelove19902610',\n",
              " 'RqsuUsDYxNgr8T40',\n",
              " 'beijing168',\n",
              " 'byeypb2',\n",
              " 'upyjlneg80',\n",
              " 'josue12',\n",
              " 'kabrito1',\n",
              " 'spl51190595',\n",
              " '00J46LTAxMgME7C4',\n",
              " 'pr0f1s10',\n",
              " '52558000aaa',\n",
              " '215466kenyi',\n",
              " 'idofo673',\n",
              " 'demon10',\n",
              " 'alhama11408',\n",
              " 'wasanun13',\n",
              " '4lgYVfzk1MwuzHcn',\n",
              " 'potatobus150',\n",
              " '600eretz',\n",
              " 'wycinu436',\n",
              " 's4m2dx9e6',\n",
              " 'pikey231',\n",
              " 'galoucura1',\n",
              " 'Jovan13lovekenthjusvan4ever',\n",
              " 'kevin24',\n",
              " 'yu86640132',\n",
              " 'sknq7m0',\n",
              " 'sebo82',\n",
              " 'jorge1489',\n",
              " 'metopelo1623',\n",
              " 'XqMB7vDMzOQocAFV',\n",
              " 'wearehis7',\n",
              " 'RPFUOUDQwMwVW0AS',\n",
              " '210496av',\n",
              " 'patata91',\n",
              " 'caramelo9',\n",
              " 'sono11',\n",
              " 'robot425',\n",
              " 'uzifyc502',\n",
              " 'islamasma12',\n",
              " 'tucagu356',\n",
              " '05bumd',\n",
              " 'graciela2',\n",
              " 'wxS2ztDk4OATjBfI',\n",
              " 'gill02',\n",
              " 'pugceya468',\n",
              " 'kayal123',\n",
              " '7l1hu1xa',\n",
              " 'sd6x9s3s',\n",
              " 'sanki1',\n",
              " 'aquhih220',\n",
              " 'olyucskw52',\n",
              " '5gzj5uf',\n",
              " 'sarahi1628',\n",
              " 'pukiw102',\n",
              " 'ekufite742',\n",
              " 'ekufite742',\n",
              " '727nimdadre',\n",
              " 'k1k2k3k4k5k6',\n",
              " 'natalia12',\n",
              " 'linhna288',\n",
              " 'bc5e4vca',\n",
              " 'jbtcnd6',\n",
              " 'olumide1',\n",
              " 'tia150979',\n",
              " 'poilkjmnb987',\n",
              " 'n501iomf',\n",
              " 'olmaz.',\n",
              " 'holamundo1',\n",
              " 'caramelo9',\n",
              " 'taiga0088',\n",
              " 'uziwocy148',\n",
              " 'juliana19',\n",
              " 'poilkjmnb987',\n",
              " 'alimagik1',\n",
              " 'xp;ysmybst',\n",
              " 'darza6534',\n",
              " 'kenyu001',\n",
              " 'm4r4hne',\n",
              " '0847440744z',\n",
              " 'u03kz6ez',\n",
              " 'rsuvxz08b',\n",
              " '4TXr5KDYxNQVTo4g',\n",
              " 'plumilla1',\n",
              " 'YADHJIGSAWS11',\n",
              " '1A2Z3E4R',\n",
              " 'v10rica',\n",
              " 'kVczcljg4OA25Aeb',\n",
              " 'hide68',\n",
              " 'padhila30',\n",
              " 'sbl571017',\n",
              " 'pxjwmeqyn5',\n",
              " 'obstacle25',\n",
              " 'icap12',\n",
              " 'w9209640',\n",
              " '27121995qw',\n",
              " 'ayles2266',\n",
              " '16731673ir',\n",
              " 'mndzbqkv651',\n",
              " 'b4NbTxDEyNgG141J',\n",
              " 'ebogel225',\n",
              " '3y6iwef2g6',\n",
              " 'd4xQ3LjUwMQFVCYQ',\n",
              " 'pizxmwaos537',\n",
              " 'yitbos77',\n",
              " 'zeitgeist1',\n",
              " 'gozv3e5',\n",
              " '16731673ir',\n",
              " 'kah4544875',\n",
              " 'vijay1995',\n",
              " 'witek1709',\n",
              " 'elonex24',\n",
              " 's9830950044',\n",
              " 'mmm23mm',\n",
              " 'faranumar91',\n",
              " '746xitEGiqObog',\n",
              " 'hide68',\n",
              " 'ineedyou23',\n",
              " 'p0lp0l',\n",
              " 'limichan99',\n",
              " 'megdam55',\n",
              " 'igejasy712',\n",
              " 'cribrot1200',\n",
              " 'iL1BEmTUyMg8YYbn',\n",
              " 'krishna2',\n",
              " 'iwaguh884',\n",
              " 'cc71797805',\n",
              " 'jytifok873',\n",
              " 'aan2900220',\n",
              " 'xp;ysmybst',\n",
              " 'aan2900220',\n",
              " 'oscar69',\n",
              " 'gpc151192',\n",
              " 'p@sslng2diword',\n",
              " 'kino3434',\n",
              " '1994kerr1994',\n",
              " 'ras996633',\n",
              " 'LypOJUfuLYrO477',\n",
              " 'z3ro1sm',\n",
              " 'han19660120',\n",
              " 'sw10d014',\n",
              " 'mark11',\n",
              " 'nLIGyhTU1NQTAp6u',\n",
              " 'hamqrc6',\n",
              " '3clrcaevu7',\n",
              " 'a0972986650',\n",
              " 'fr8OClDY1MAdEhHa',\n",
              " 'pikey231',\n",
              " '1234159hero',\n",
              " '3y6iwef2g6',\n",
              " 'zendegi2me',\n",
              " 'potatobus150',\n",
              " 'ninja420',\n",
              " 'ydkmujrze3',\n",
              " '7942vikas',\n",
              " 'barboza221294',\n",
              " 'v10rica',\n",
              " 'juany57',\n",
              " 'yv3hpf',\n",
              " 'twil8x0',\n",
              " 'patata91',\n",
              " 'pacman23',\n",
              " 'galoucura1',\n",
              " 'lsdlsd1',\n",
              " 'trust123',\n",
              " 'woogee04',\n",
              " 'krumbul123',\n",
              " 'aquhih220',\n",
              " 'ab11223344',\n",
              " 'oslicek00',\n",
              " 'mazdarx7',\n",
              " '1ngaymuadong',\n",
              " 'ahibyg892',\n",
              " 'cigicigi123',\n",
              " 'cigicigi123',\n",
              " '283671gus',\n",
              " '4TXr5KDYxNQVTo4g',\n",
              " '1991vikash',\n",
              " 'rqmswof2llb0',\n",
              " 'kenneth610',\n",
              " 'gpc151192',\n",
              " 'mdaffandi74',\n",
              " 'hello2104',\n",
              " 'lsdlsd1',\n",
              " 'ram@!sita15392',\n",
              " '8g8x2su3',\n",
              " 'juanito00',\n",
              " 'mehmet4524572',\n",
              " 'ram@!sita15392',\n",
              " 'ass359',\n",
              " 'jEzZXUTE3MgJ4fVk',\n",
              " 'lolmdr1',\n",
              " 'd04m11',\n",
              " '847XagYxUHUXOW',\n",
              " 'portales1',\n",
              " '123linux',\n",
              " '64959rodro',\n",
              " 'paynu4pzwzw11',\n",
              " '17.10.08',\n",
              " 'artom111478',\n",
              " 'kevin24',\n",
              " 'overlord3127',\n",
              " 'pmcm110118008',\n",
              " 'xf6385494',\n",
              " 'weicat12',\n",
              " 'uuuu123',\n",
              " 'yk530mg8',\n",
              " 'aquhih220',\n",
              " 'Oshity07142014',\n",
              " 'jcav26',\n",
              " 'XqMB7vDMzOQocAFV',\n",
              " 'lovelory1',\n",
              " 'kenyu001',\n",
              " 'cifinew817',\n",
              " 'popo0404',\n",
              " 'mustang337',\n",
              " 'xlxlxl777',\n",
              " 'akfrdma813',\n",
              " 'seng987321',\n",
              " 'pazzini24',\n",
              " 'k1k2k3k4k5k6',\n",
              " 'DRAGON25',\n",
              " 'ilunia20',\n",
              " 'e667794c1d',\n",
              " 'XqMB7vDMzOQocAFV',\n",
              " 'lolmdr1',\n",
              " 'lollies1989',\n",
              " 'xiau5ff',\n",
              " 'farrukhcse12',\n",
              " '225arysorIgEKa',\n",
              " 'a0972986650',\n",
              " 'virush1n1',\n",
              " 'roxana1993',\n",
              " 'viri13',\n",
              " 'openup12',\n",
              " 'lugerp08',\n",
              " 'owary200',\n",
              " 'azerty32',\n",
              " 'topgan22',\n",
              " 'a110804032',\n",
              " 'd4xQ3LjUwMQFVCYQ',\n",
              " 'alimagik1',\n",
              " 'pHyqueDIyNQ8vmhb',\n",
              " 'ufoduvo540',\n",
              " 'xknagqo92',\n",
              " 'examy624',\n",
              " 'zcb1314520zxr.',\n",
              " 'markama10',\n",
              " 'iwaguh884',\n",
              " 'legna13',\n",
              " 'falre1524',\n",
              " 'cacat123',\n",
              " '5gzj5uf',\n",
              " 'eqomu958',\n",
              " 'pengjing10',\n",
              " 'walterivl13',\n",
              " 'whosdabest1',\n",
              " 'cztPECjY2MQGFxnN',\n",
              " 'ryjypes139',\n",
              " 'wasanun13',\n",
              " 'icap12',\n",
              " 'sbnivetha123',\n",
              " 'yut0838828185',\n",
              " 'mzhrmir786',\n",
              " 'universe2908',\n",
              " 'labarge1',\n",
              " 'GGmm26120904..',\n",
              " 'zu20081965',\n",
              " 'born1988',\n",
              " 'syjtdxlo81',\n",
              " 'gpc151192',\n",
              " 'iwaguh884',\n",
              " '4lgYVfzk1MwuzHcn',\n",
              " ...]"
            ]
          },
          "metadata": {
            "tags": []
          },
          "execution_count": 15
        }
      ]
    },
    {
      "cell_type": "code",
      "metadata": {
        "id": "1cxgAQXbwcxI"
      },
      "source": [
        "def word_divide_char(inputs):\n",
        "    character =[]\n",
        "    for i in inputs:\n",
        "        character.append(i)\n",
        "    return character"
      ],
      "execution_count": 16,
      "outputs": []
    },
    {
      "cell_type": "code",
      "metadata": {
        "colab": {
          "base_uri": "https://localhost:8080/"
        },
        "id": "5VeqTa9RwjEF",
        "outputId": "23380fb8-6cdb-422b-a50e-879144366f98"
      },
      "source": [
        "word_divide_char('Kzde5577')"
      ],
      "execution_count": 17,
      "outputs": [
        {
          "output_type": "execute_result",
          "data": {
            "text/plain": [
              "['K', 'z', 'd', 'e', '5', '5', '7', '7']"
            ]
          },
          "metadata": {
            "tags": []
          },
          "execution_count": 17
        }
      ]
    },
    {
      "cell_type": "code",
      "metadata": {
        "id": "_-4iPtfFwk5m"
      },
      "source": [
        "from sklearn.feature_extraction.text import TfidfVectorizer"
      ],
      "execution_count": 18,
      "outputs": []
    },
    {
      "cell_type": "code",
      "metadata": {
        "id": "CxIWLqMawm_S"
      },
      "source": [
        "vectorizer = TfidfVectorizer(tokenizer= word_divide_char)"
      ],
      "execution_count": 19,
      "outputs": []
    },
    {
      "cell_type": "code",
      "metadata": {
        "id": "cHw7dZC0wpcX"
      },
      "source": [
        "X = vectorizer.fit_transform(x)"
      ],
      "execution_count": 20,
      "outputs": []
    },
    {
      "cell_type": "code",
      "metadata": {
        "colab": {
          "base_uri": "https://localhost:8080/"
        },
        "id": "KcTGZkSZwqsg",
        "outputId": "9d06f294-84fb-4688-ec2b-b9897f3d03a8"
      },
      "source": [
        "X.shape"
      ],
      "execution_count": 21,
      "outputs": [
        {
          "output_type": "execute_result",
          "data": {
            "text/plain": [
              "(669639, 128)"
            ]
          },
          "metadata": {
            "tags": []
          },
          "execution_count": 21
        }
      ]
    },
    {
      "cell_type": "code",
      "metadata": {
        "colab": {
          "base_uri": "https://localhost:8080/"
        },
        "id": "t53tAuSewsmC",
        "outputId": "ab39ee1c-d6ac-4c0a-af6a-2ed63c71d003"
      },
      "source": [
        "vectorizer.get_feature_names()"
      ],
      "execution_count": 22,
      "outputs": [
        {
          "output_type": "execute_result",
          "data": {
            "text/plain": [
              "['\\x04',\n",
              " '\\x05',\n",
              " '\\x06',\n",
              " '\\x0e',\n",
              " '\\x10',\n",
              " '\\x12',\n",
              " '\\x16',\n",
              " '\\x17',\n",
              " '\\x19',\n",
              " '\\x1b',\n",
              " '\\x1c',\n",
              " '\\x1e',\n",
              " ' ',\n",
              " '!',\n",
              " '\"',\n",
              " '#',\n",
              " '$',\n",
              " '%',\n",
              " '&',\n",
              " '(',\n",
              " ')',\n",
              " '*',\n",
              " '+',\n",
              " '-',\n",
              " '.',\n",
              " '/',\n",
              " '0',\n",
              " '1',\n",
              " '2',\n",
              " '3',\n",
              " '4',\n",
              " '5',\n",
              " '6',\n",
              " '7',\n",
              " '8',\n",
              " '9',\n",
              " ';',\n",
              " '<',\n",
              " '=',\n",
              " '>',\n",
              " '?',\n",
              " '@',\n",
              " '[',\n",
              " '\\\\',\n",
              " ']',\n",
              " '^',\n",
              " '_',\n",
              " '`',\n",
              " 'a',\n",
              " 'b',\n",
              " 'c',\n",
              " 'd',\n",
              " 'e',\n",
              " 'f',\n",
              " 'g',\n",
              " 'h',\n",
              " 'i',\n",
              " 'j',\n",
              " 'k',\n",
              " 'l',\n",
              " 'm',\n",
              " 'n',\n",
              " 'o',\n",
              " 'p',\n",
              " 'q',\n",
              " 'r',\n",
              " 's',\n",
              " 't',\n",
              " 'u',\n",
              " 'v',\n",
              " 'w',\n",
              " 'x',\n",
              " 'y',\n",
              " 'z',\n",
              " '{',\n",
              " '|',\n",
              " '}',\n",
              " '~',\n",
              " '\\x7f',\n",
              " '\\x8d',\n",
              " '\\xa0',\n",
              " '¡',\n",
              " '¨',\n",
              " '«',\n",
              " '°',\n",
              " '±',\n",
              " '²',\n",
              " '³',\n",
              " '´',\n",
              " 'µ',\n",
              " '¶',\n",
              " '·',\n",
              " '¹',\n",
              " 'º',\n",
              " '¾',\n",
              " '¿',\n",
              " '×',\n",
              " 'ß',\n",
              " 'à',\n",
              " 'á',\n",
              " 'â',\n",
              " 'ä',\n",
              " 'å',\n",
              " 'æ',\n",
              " 'è',\n",
              " 'é',\n",
              " 'í',\n",
              " 'ï',\n",
              " 'ð',\n",
              " 'ñ',\n",
              " 'ò',\n",
              " 'ó',\n",
              " 'ô',\n",
              " 'õ',\n",
              " 'ö',\n",
              " '÷',\n",
              " 'ù',\n",
              " 'ú',\n",
              " 'û',\n",
              " 'ü',\n",
              " 'ý',\n",
              " 'þ',\n",
              " 'ÿ',\n",
              " 'œ',\n",
              " '—',\n",
              " '‚',\n",
              " '‹',\n",
              " '›']"
            ]
          },
          "metadata": {
            "tags": []
          },
          "execution_count": 22
        }
      ]
    },
    {
      "cell_type": "code",
      "metadata": {
        "colab": {
          "base_uri": "https://localhost:8080/"
        },
        "id": "MrxjHsHGwurp",
        "outputId": "f18780f5-cd0b-432a-89e2-83ded589873d"
      },
      "source": [
        "first_document_vector = X[0]\n",
        "first_document_vector"
      ],
      "execution_count": 23,
      "outputs": [
        {
          "output_type": "execute_result",
          "data": {
            "text/plain": [
              "<1x128 sparse matrix of type '<class 'numpy.float64'>'\n",
              "\twith 6 stored elements in Compressed Sparse Row format>"
            ]
          },
          "metadata": {
            "tags": []
          },
          "execution_count": 23
        }
      ]
    },
    {
      "cell_type": "code",
      "metadata": {
        "colab": {
          "base_uri": "https://localhost:8080/"
        },
        "id": "YtbAvP4Ewx83",
        "outputId": "d5d242a2-fe07-4077-d125-a604f586a63a"
      },
      "source": [
        "first_document_vector.T.todense()"
      ],
      "execution_count": 24,
      "outputs": [
        {
          "output_type": "execute_result",
          "data": {
            "text/plain": [
              "matrix([[0.        ],\n",
              "        [0.        ],\n",
              "        [0.        ],\n",
              "        [0.        ],\n",
              "        [0.        ],\n",
              "        [0.        ],\n",
              "        [0.        ],\n",
              "        [0.        ],\n",
              "        [0.        ],\n",
              "        [0.        ],\n",
              "        [0.        ],\n",
              "        [0.        ],\n",
              "        [0.        ],\n",
              "        [0.        ],\n",
              "        [0.        ],\n",
              "        [0.        ],\n",
              "        [0.        ],\n",
              "        [0.        ],\n",
              "        [0.        ],\n",
              "        [0.        ],\n",
              "        [0.        ],\n",
              "        [0.        ],\n",
              "        [0.        ],\n",
              "        [0.        ],\n",
              "        [0.        ],\n",
              "        [0.        ],\n",
              "        [0.        ],\n",
              "        [0.        ],\n",
              "        [0.        ],\n",
              "        [0.        ],\n",
              "        [0.        ],\n",
              "        [0.5666995 ],\n",
              "        [0.        ],\n",
              "        [0.59174419],\n",
              "        [0.        ],\n",
              "        [0.        ],\n",
              "        [0.        ],\n",
              "        [0.        ],\n",
              "        [0.        ],\n",
              "        [0.        ],\n",
              "        [0.        ],\n",
              "        [0.        ],\n",
              "        [0.        ],\n",
              "        [0.        ],\n",
              "        [0.        ],\n",
              "        [0.        ],\n",
              "        [0.        ],\n",
              "        [0.        ],\n",
              "        [0.        ],\n",
              "        [0.        ],\n",
              "        [0.        ],\n",
              "        [0.28596368],\n",
              "        [0.2214627 ],\n",
              "        [0.        ],\n",
              "        [0.        ],\n",
              "        [0.        ],\n",
              "        [0.        ],\n",
              "        [0.        ],\n",
              "        [0.29154031],\n",
              "        [0.        ],\n",
              "        [0.        ],\n",
              "        [0.        ],\n",
              "        [0.        ],\n",
              "        [0.        ],\n",
              "        [0.        ],\n",
              "        [0.        ],\n",
              "        [0.        ],\n",
              "        [0.        ],\n",
              "        [0.        ],\n",
              "        [0.        ],\n",
              "        [0.        ],\n",
              "        [0.        ],\n",
              "        [0.        ],\n",
              "        [0.33596695],\n",
              "        [0.        ],\n",
              "        [0.        ],\n",
              "        [0.        ],\n",
              "        [0.        ],\n",
              "        [0.        ],\n",
              "        [0.        ],\n",
              "        [0.        ],\n",
              "        [0.        ],\n",
              "        [0.        ],\n",
              "        [0.        ],\n",
              "        [0.        ],\n",
              "        [0.        ],\n",
              "        [0.        ],\n",
              "        [0.        ],\n",
              "        [0.        ],\n",
              "        [0.        ],\n",
              "        [0.        ],\n",
              "        [0.        ],\n",
              "        [0.        ],\n",
              "        [0.        ],\n",
              "        [0.        ],\n",
              "        [0.        ],\n",
              "        [0.        ],\n",
              "        [0.        ],\n",
              "        [0.        ],\n",
              "        [0.        ],\n",
              "        [0.        ],\n",
              "        [0.        ],\n",
              "        [0.        ],\n",
              "        [0.        ],\n",
              "        [0.        ],\n",
              "        [0.        ],\n",
              "        [0.        ],\n",
              "        [0.        ],\n",
              "        [0.        ],\n",
              "        [0.        ],\n",
              "        [0.        ],\n",
              "        [0.        ],\n",
              "        [0.        ],\n",
              "        [0.        ],\n",
              "        [0.        ],\n",
              "        [0.        ],\n",
              "        [0.        ],\n",
              "        [0.        ],\n",
              "        [0.        ],\n",
              "        [0.        ],\n",
              "        [0.        ],\n",
              "        [0.        ],\n",
              "        [0.        ],\n",
              "        [0.        ],\n",
              "        [0.        ],\n",
              "        [0.        ],\n",
              "        [0.        ],\n",
              "        [0.        ]])"
            ]
          },
          "metadata": {
            "tags": []
          },
          "execution_count": 24
        }
      ]
    },
    {
      "cell_type": "code",
      "metadata": {
        "id": "_NCmg7lTw3lM"
      },
      "source": [
        "df = pd.DataFrame(first_document_vector.T.todense(),index=vectorizer.get_feature_names(),columns=['TF-IDF'])"
      ],
      "execution_count": 25,
      "outputs": []
    },
    {
      "cell_type": "code",
      "metadata": {
        "colab": {
          "base_uri": "https://localhost:8080/",
          "height": 419
        },
        "id": "GWraOhbkw65N",
        "outputId": "8ef0ceb8-963b-49ff-a3cc-0754c5debdd8"
      },
      "source": [
        "df.sort_values(by=['TF-IDF'],ascending=False)"
      ],
      "execution_count": 26,
      "outputs": [
        {
          "output_type": "execute_result",
          "data": {
            "text/html": [
              "<div>\n",
              "<style scoped>\n",
              "    .dataframe tbody tr th:only-of-type {\n",
              "        vertical-align: middle;\n",
              "    }\n",
              "\n",
              "    .dataframe tbody tr th {\n",
              "        vertical-align: top;\n",
              "    }\n",
              "\n",
              "    .dataframe thead th {\n",
              "        text-align: right;\n",
              "    }\n",
              "</style>\n",
              "<table border=\"1\" class=\"dataframe\">\n",
              "  <thead>\n",
              "    <tr style=\"text-align: right;\">\n",
              "      <th></th>\n",
              "      <th>TF-IDF</th>\n",
              "    </tr>\n",
              "  </thead>\n",
              "  <tbody>\n",
              "    <tr>\n",
              "      <th>7</th>\n",
              "      <td>0.591744</td>\n",
              "    </tr>\n",
              "    <tr>\n",
              "      <th>5</th>\n",
              "      <td>0.566699</td>\n",
              "    </tr>\n",
              "    <tr>\n",
              "      <th>z</th>\n",
              "      <td>0.335967</td>\n",
              "    </tr>\n",
              "    <tr>\n",
              "      <th>k</th>\n",
              "      <td>0.291540</td>\n",
              "    </tr>\n",
              "    <tr>\n",
              "      <th>d</th>\n",
              "      <td>0.285964</td>\n",
              "    </tr>\n",
              "    <tr>\n",
              "      <th>...</th>\n",
              "      <td>...</td>\n",
              "    </tr>\n",
              "    <tr>\n",
              "      <th>=</th>\n",
              "      <td>0.000000</td>\n",
              "    </tr>\n",
              "    <tr>\n",
              "      <th>&lt;</th>\n",
              "      <td>0.000000</td>\n",
              "    </tr>\n",
              "    <tr>\n",
              "      <th>;</th>\n",
              "      <td>0.000000</td>\n",
              "    </tr>\n",
              "    <tr>\n",
              "      <th>9</th>\n",
              "      <td>0.000000</td>\n",
              "    </tr>\n",
              "    <tr>\n",
              "      <th>›</th>\n",
              "      <td>0.000000</td>\n",
              "    </tr>\n",
              "  </tbody>\n",
              "</table>\n",
              "<p>128 rows × 1 columns</p>\n",
              "</div>"
            ],
            "text/plain": [
              "      TF-IDF\n",
              "7   0.591744\n",
              "5   0.566699\n",
              "z   0.335967\n",
              "k   0.291540\n",
              "d   0.285964\n",
              "..       ...\n",
              "=   0.000000\n",
              "<   0.000000\n",
              ";   0.000000\n",
              "9   0.000000\n",
              "›   0.000000\n",
              "\n",
              "[128 rows x 1 columns]"
            ]
          },
          "metadata": {
            "tags": []
          },
          "execution_count": 26
        }
      ]
    },
    {
      "cell_type": "code",
      "metadata": {
        "colab": {
          "base_uri": "https://localhost:8080/"
        },
        "id": "267ZPDYfw8nT",
        "outputId": "cf658c05-d5bc-4341-ae39-d47543dc8591"
      },
      "source": [
        "from sklearn.model_selection import train_test_split\n",
        "X_train,X_test,y_train,y_test = train_test_split(X,y,test_size=0.2)\n",
        "X_train.shape"
      ],
      "execution_count": 27,
      "outputs": [
        {
          "output_type": "execute_result",
          "data": {
            "text/plain": [
              "(535711, 128)"
            ]
          },
          "metadata": {
            "tags": []
          },
          "execution_count": 27
        }
      ]
    },
    {
      "cell_type": "code",
      "metadata": {
        "id": "hOWMJGYIxEc8"
      },
      "source": [
        "from xgboost import XGBClassifier"
      ],
      "execution_count": 28,
      "outputs": []
    },
    {
      "cell_type": "code",
      "metadata": {
        "colab": {
          "base_uri": "https://localhost:8080/"
        },
        "id": "7aHqK4MAxGTL",
        "outputId": "e9bf93f3-59e1-43a9-9dbc-f38af551cfd3"
      },
      "source": [
        "classifier = XGBClassifier()\n",
        "classifier.fit(X_train,y_train)"
      ],
      "execution_count": 29,
      "outputs": [
        {
          "output_type": "execute_result",
          "data": {
            "text/plain": [
              "XGBClassifier(base_score=0.5, booster='gbtree', colsample_bylevel=1,\n",
              "              colsample_bynode=1, colsample_bytree=1, gamma=0,\n",
              "              learning_rate=0.1, max_delta_step=0, max_depth=3,\n",
              "              min_child_weight=1, missing=None, n_estimators=100, n_jobs=1,\n",
              "              nthread=None, objective='multi:softprob', random_state=0,\n",
              "              reg_alpha=0, reg_lambda=1, scale_pos_weight=1, seed=None,\n",
              "              silent=None, subsample=1, verbosity=1)"
            ]
          },
          "metadata": {
            "tags": []
          },
          "execution_count": 29
        }
      ]
    },
    {
      "cell_type": "code",
      "metadata": {
        "id": "IzHt2CicxTtE"
      },
      "source": [
        "y_pred = classifier.predict(X_test)"
      ],
      "execution_count": 30,
      "outputs": []
    },
    {
      "cell_type": "code",
      "metadata": {
        "id": "fecW7qEvyWwe"
      },
      "source": [
        "from sklearn.metrics import confusion_matrix"
      ],
      "execution_count": 31,
      "outputs": []
    },
    {
      "cell_type": "code",
      "metadata": {
        "id": "ZHrM54Lzyd2K"
      },
      "source": [
        "cm = confusion_matrix(y_test,y_pred)"
      ],
      "execution_count": 32,
      "outputs": []
    },
    {
      "cell_type": "code",
      "metadata": {
        "colab": {
          "base_uri": "https://localhost:8080/"
        },
        "id": "d3vPkbWhyj1D",
        "outputId": "37914b3e-52ec-4b83-a1ae-949f7d6a43b6"
      },
      "source": [
        "cm"
      ],
      "execution_count": 33,
      "outputs": [
        {
          "output_type": "execute_result",
          "data": {
            "text/plain": [
              "array([[10518,  7558,     5],\n",
              "       [ 1378, 96918,   864],\n",
              "       [   10,  1593, 15084]])"
            ]
          },
          "metadata": {
            "tags": []
          },
          "execution_count": 33
        }
      ]
    },
    {
      "cell_type": "code",
      "metadata": {
        "id": "jg-Lp1foylqc"
      },
      "source": [
        "from sklearn.model_selection import cross_val_score\n",
        "accuracies = cross_val_score(estimator = classifier, X=X_train,y=y_train,cv=10)"
      ],
      "execution_count": 36,
      "outputs": []
    },
    {
      "cell_type": "code",
      "metadata": {
        "colab": {
          "base_uri": "https://localhost:8080/"
        },
        "id": "IGm0oKswy95E",
        "outputId": "ba3b6a44-67f6-4f3e-f476-6a03365027be"
      },
      "source": [
        "accuracies.mean()\n",
        "accuracies.std()"
      ],
      "execution_count": 37,
      "outputs": [
        {
          "output_type": "execute_result",
          "data": {
            "text/plain": [
              "0.0005519688378632998"
            ]
          },
          "metadata": {
            "tags": []
          },
          "execution_count": 37
        }
      ]
    },
    {
      "cell_type": "code",
      "metadata": {
        "colab": {
          "base_uri": "https://localhost:8080/"
        },
        "id": "P7MN3KEO87kN",
        "outputId": "f77486dc-05a9-449b-c7aa-3d4eda9896ec"
      },
      "source": [
        "accuracies.mean()\n"
      ],
      "execution_count": 38,
      "outputs": [
        {
          "output_type": "execute_result",
          "data": {
            "text/plain": [
              "0.9147002761775846"
            ]
          },
          "metadata": {
            "tags": []
          },
          "execution_count": 38
        }
      ]
    },
    {
      "cell_type": "code",
      "metadata": {
        "id": "SskwwNfV8-nF"
      },
      "source": [
        ""
      ],
      "execution_count": null,
      "outputs": []
    }
  ]
}